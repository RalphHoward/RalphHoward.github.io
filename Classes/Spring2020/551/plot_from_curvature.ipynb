{
 "cells": [
  {
   "cell_type": "markdown",
   "metadata": {},
   "source": [
    "## This notebook plots a planar curve given its curvature.\n",
    "\n",
    "\n",
    "First import the python packages we will be using:"
   ]
  },
  {
   "cell_type": "code",
   "execution_count": 2,
   "metadata": {},
   "outputs": [],
   "source": [
    "import math               #basic mathematical functions.\n",
    "import numpy as np        #numerical methods package.\n",
    "from scipy.integrate import odeint #numerical ode integrater\n",
    "import matplotlib.pyplot as plt    #plotting library."
   ]
  },
  {
   "cell_type": "markdown",
   "metadata": {},
   "source": [
    "Next input the domain $[a,b]$, of the curvataure function and\n",
    "the curvature function $k(s)$:"
   ]
  },
  {
   "cell_type": "code",
   "execution_count": 3,
   "metadata": {},
   "outputs": [],
   "source": [
    "#edit the values of a and b as required.\n",
    "a = 0\n",
    "b = 2*np.pi\n",
    "def k(s):\n",
    "    \"The curvature.  Edit as needed.\"\n",
    "    return s\n"
   ]
  },
  {
   "cell_type": "markdown",
   "metadata": {},
   "source": [
    "If $\\mathbf c\\colon [a,b]\\to \\mathbb R^2$ is a unit speed\n",
    "curve with curvature $k$ and given by $\\mathbf c(s) = (x(s),y(s))$, then the unit tangent is\n",
    "$$\n",
    "\\mathbf t = \\frac{d\\mathbf c}{ds} = \\left( \\frac{dx}{ds},\\frac{dy}{ds}\\right)\n",
    "$$\n",
    "and the unit normal is \n",
    "$$\n",
    "\\mathbf n = \\left( - \\frac{dy}{ds} , \\frac{dx}{ds}\\right).\n",
    "$$\n",
    "The basic equation defining curvature is\n",
    "$$\n",
    " \\frac{d \\mathbf t}{ds} = k(s) \\mathbf n \n",
    "$$\n",
    "In terms of the functions $x(s)$ and $y(s)$ and usng\n",
    "$\\mathbf c'(s)=\\mathbf t$ this becomes \n",
    "$$\n",
    "\\left( \\frac{d^2x}{ds^2}, \\frac{d^2y}{ds^2}\\right)\n",
    "  = k(s)\\left(- \\frac{dy}{ds}, \\frac{dx}{ds}\\right) .\n",
    "$$\n",
    "Equating the components gives\n",
    "\\begin{align}\n",
    "\\frac{d^2x}{ds^2}&= -k(s) \\frac{dy}{ds}\\\\\n",
    "\\frac{d^2y}{ds^2}&= k(s) \\frac{dx}{ds}.\n",
    "\\end{align}\n",
    "Unfortunately the numerical differential equation solver we are using \n",
    "does not like working directly with second (or higher) derivatives.\n",
    "But it does not mind have large numbers of dependent variables.\n",
    "So we just add some variables for the first derivatives.\n",
    "As $\\mathbf c'(x) = (x'(s),y'(s)) = \\mathbf t(s) =(t_1(s),t_2(s))$\n",
    "we use $t_1$ and $t_2$ as names for the first derivatives of $x$\n",
    "and $y$.  The the system of differential equations relating\n",
    "$x(s)$ and $y(s)$ to the curvature $k(s)$ becomes\n",
    "\\begin{align}\n",
    "\\frac{dx}{ds}&= t_1\\\\\n",
    "\\frac{dy}{ds}&= t_2\\\\\n",
    "\\frac{dt_1}{ds}&= -k(s) t_2\\\\\n",
    "\\frac{dt_2}{ds}&= k(s)t_1.\n",
    "\\end{align}\n",
    "The differential equation integrator wants all these \n",
    "variables packed into one list.  We call call this \n",
    "list $C=[x,y,t_1,t_2]$.  Here is the python code that defines\n",
    "the equation for the curve."
   ]
  },
  {
   "cell_type": "code",
   "execution_count": 4,
   "metadata": {},
   "outputs": [],
   "source": [
    "def curve_eqn(C,s):\n",
    "    \"\"\"\"\n",
    "    Given input a list [C[0],C[1],C[2],C[3]] = [x,y,t_1,t_2]\n",
    "    this function outputs the values of [dx/ds,dy/ds,dt_1/ds,dt_2/ds]\n",
    "    as given by the differential euqations above.\n",
    "    \"\"\"\n",
    "    return [C[2],C[3], -k(s)*C[3],k(s)*C[2]]"
   ]
  },
  {
   "cell_type": "markdown",
   "metadata": {},
   "source": [
    "Tell python the initial conditions for the equation (we use\n",
    "$\\mathbf c(a) = (0,0)$ and $\\mathbf t(a) = (1,0)$) and the \n",
    "domain."
   ]
  },
  {
   "cell_type": "code",
   "execution_count": 5,
   "metadata": {},
   "outputs": [],
   "source": [
    "C0 = [0,0,1,0]  #the initial condition\n",
    "domain = np.linspace(a,b,500) # the domain divided into 500 pieces."
   ]
  },
  {
   "cell_type": "markdown",
   "metadata": {},
   "source": [
    "Have the numerical differential equation package find the solution\n",
    "and then store the $x$ and $y$ values."
   ]
  },
  {
   "cell_type": "code",
   "execution_count": 6,
   "metadata": {},
   "outputs": [],
   "source": [
    "curve = odeint(curve_eqn,C0,domain)\n",
    "x = curve[:,0]\n",
    "y = curve[:,1]"
   ]
  },
  {
   "cell_type": "markdown",
   "metadata": {},
   "source": [
    "And plot the curve."
   ]
  },
  {
   "cell_type": "code",
   "execution_count": 11,
   "metadata": {},
   "outputs": [
    {
     "data": {
      "text/plain": [
       "(-0.06911586700114013,\n",
       " 1.4514332070239426,\n",
       " -0.06327408969824998,\n",
       " 1.3287558836632496)"
      ]
     },
     "execution_count": 11,
     "metadata": {},
     "output_type": "execute_result"
    },
    {
     "data": {
      "image/png": "[encoded data removed]",
      "text/plain": [
       "<Figure size 432x288 with 1 Axes>"
      ]
     },
     "metadata": {
      "needs_background": "light"
     },
     "output_type": "display_data"
    }
   ],
   "source": [
    "plt.plot(x,y)\n",
    "plt.axis('equal')"
   ]
  },
  {
   "cell_type": "code",
   "execution_count": null,
   "metadata": {},
   "outputs": [],
   "source": []
  },
  {
   "cell_type": "code",
   "execution_count": null,
   "metadata": {},
   "outputs": [],
   "source": []
  },
  {
   "cell_type": "code",
   "execution_count": null,
   "metadata": {},
   "outputs": [],
   "source": []
  },
  {
   "cell_type": "code",
   "execution_count": null,
   "metadata": {},
   "outputs": [],
   "source": []
  }
 ],
 "metadata": {
  "kernelspec": {
   "display_name": "Python 3",
   "language": "python",
   "name": "python3"
  },
  "language_info": {
   "codemirror_mode": {
    "name": "ipython",
    "version": 3
   },
   "file_extension": ".py",
   "mimetype": "text/x-python",
   "name": "python",
   "nbconvert_exporter": "python",
   "pygments_lexer": "ipython3",
   "version": "3.7.1"
  }
 },
 "nbformat": 4,
 "nbformat_minor": 4
}
